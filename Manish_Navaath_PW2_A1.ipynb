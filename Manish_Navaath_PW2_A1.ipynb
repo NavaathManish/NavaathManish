{
  "cells": [
    {
      "cell_type": "markdown",
      "metadata": {
        "id": "view-in-github",
        "colab_type": "text"
      },
      "source": [
        "<a href=\"https://colab.research.google.com/github/NavaathManish/NavaathManish/blob/main/Manish_Navaath_PW2_A1.ipynb\" target=\"_parent\"><img src=\"https://colab.research.google.com/assets/colab-badge.svg\" alt=\"Open In Colab\"/></a>"
      ]
    },
    {
      "cell_type": "markdown",
      "metadata": {
        "nbgrader": {
          "grade": false,
          "grade_id": "cell-0a1cd97d29171e27",
          "locked": true,
          "schema_version": 3,
          "solution": false,
          "task": false
        },
        "id": "TlQxQF28iv2Y"
      },
      "source": [
        "# Rules:\n",
        "    1. Follow the given instructions strictly as the assignment will be automatically rejected if not done so.\n",
        "    2. After you are done answering the questions, save the notebook in .ipynb format and rename it as so;\n",
        "        \n",
        "        <<Your name as visible on 'My Courses' page as shown below>>_PW2-A1.ipynb\n",
        "        \n",
        "    3. After renaming the file as above submit onto the platform."
      ]
    },
    {
      "cell_type": "markdown",
      "metadata": {
        "nbgrader": {
          "grade": false,
          "grade_id": "cell-39806162dd625703",
          "locked": true,
          "schema_version": 3,
          "solution": false,
          "task": false
        },
        "id": "CY84OPxKiv2d"
      },
      "source": [
        "# Python W2 - Assignment 01"
      ]
    },
    {
      "cell_type": "markdown",
      "metadata": {
        "nbgrader": {
          "grade": false,
          "grade_id": "Q1",
          "locked": true,
          "schema_version": 3,
          "solution": false,
          "task": false
        },
        "id": "cRMQ_k6Yiv2e"
      },
      "source": [
        "\n",
        "## 1. String Manipulation\n",
        "\n",
        "Match the following string methods with the respective output in the below options\n",
        "\n",
        "Here,\n",
        " `string= \"this is old python course\"`"
      ]
    },
    {
      "cell_type": "markdown",
      "metadata": {
        "id": "nY-Vk1aJiv2g"
      },
      "source": [
        "| Statement | Output |\n",
        "| --- | --- |\n",
        "| (a) string.count(\"is\") | (1) True |\n",
        "| (b) string.replace(\"old\", \"new\") | (2) 12 |\n",
        "| (c) string.index(\"python\") | (3) 'this is new python course' |\n",
        "| (d) string.startswith(\"this\") | (4) 2 |\n",
        "| (e) string.isalnum() | (5) False |\n",
        "| (g) string.strip(\"this is old\") | (6) 'python course' |"
      ]
    },
    {
      "cell_type": "markdown",
      "metadata": {
        "nbgrader": {
          "grade": true,
          "grade_id": "A1",
          "locked": false,
          "points": 2,
          "schema_version": 3,
          "solution": true,
          "task": false
        },
        "id": "CwIwM2oBiv2h"
      },
      "source": [
        "#YOUR ANSWER HERE"
      ]
    },
    {
      "cell_type": "code",
      "execution_count": null,
      "metadata": {
        "nbgrader": {
          "grade": false,
          "grade_id": "cell-bdbb11386adf6c13",
          "locked": true,
          "schema_version": 3,
          "solution": false,
          "task": false
        },
        "id": "D_Mu9qGaiv2i"
      },
      "outputs": [],
      "source": [
        "1. a-4,b-3,c-2,d-1,e-5,g-6"
      ]
    },
    {
      "cell_type": "markdown",
      "metadata": {
        "nbgrader": {
          "grade": false,
          "grade_id": "cell-a13189a026c3771d",
          "locked": true,
          "schema_version": 3,
          "solution": false,
          "task": false
        },
        "id": "KUIZz25Tiv2j"
      },
      "source": [
        "## 2. Nested Conditions\n",
        "\n",
        "\n"
      ]
    },
    {
      "cell_type": "code",
      "execution_count": null,
      "metadata": {
        "id": "Dneuji6yiv2k"
      },
      "outputs": [],
      "source": [
        "x = int(input())\n",
        "y = int(input())\n",
        "z = int(input())\n",
        "\n",
        "#Block-1 Start\n",
        "\n",
        "if x > 0 or y> 0 or z > 0:\n",
        "    if (x > 0 and y> 0) or (y> 0 and z> 0) or (z> 0 and x > 0):\n",
        "        if x > 0 and y> 0 and z > 0:\n",
        "            print('P3')\n",
        "        else:\n",
        "            print('P2')\n",
        "    else:\n",
        "        print('P1')\n",
        "\n",
        "#Block-1 End\n",
        "\n",
        "\n",
        "# Block-2 Start\n",
        "\n",
        "if x <0 or y<0 or z < 0:\n",
        "    if (x < 0 and y< 0) or (y< 0 and z< 0) or (z< 0 and x < 0):\n",
        "            if x < 0 and y< 0 and z < 0:\n",
        "                print('N3')\n",
        "            else:\n",
        "                print('N2')\n",
        "    else:\n",
        "        print('N1')\n",
        "\n",
        "\n",
        "#Block-2 End"
      ]
    },
    {
      "cell_type": "markdown",
      "metadata": {
        "id": "z13dvcVSiv2m"
      },
      "source": [
        "What will be the output for the below input of x,y and z?\n",
        "\n",
        "x= -1\n",
        "y= 4\n",
        "z= 1"
      ]
    },
    {
      "cell_type": "markdown",
      "metadata": {
        "nbgrader": {
          "grade": true,
          "grade_id": "cell-5b0ec5b5f53b7705",
          "locked": false,
          "points": 2,
          "schema_version": 3,
          "solution": true,
          "task": false
        },
        "id": "DWmawuaciv2n"
      },
      "source": [
        "2. The output for x= -1 y= 4 z= 1 is,\n",
        "P2\n",
        "N1\n",
        "#**Explanation** - as x <0,y>0 and z>0 the condition satisfies and applies for both block 1 and block 2 ,where if else is used for the condition x <0,y>0 and z>0 ."
      ]
    },
    {
      "cell_type": "markdown",
      "metadata": {
        "nbgrader": {
          "grade": false,
          "grade_id": "Q2",
          "locked": true,
          "schema_version": 3,
          "solution": false,
          "task": false
        },
        "id": "Z2ZNbLj0iv2o"
      },
      "source": [
        "## 3. Set Operations\n"
      ]
    },
    {
      "cell_type": "code",
      "execution_count": null,
      "metadata": {
        "id": "9W-611KZiv2p"
      },
      "outputs": [],
      "source": [
        "s1= {1,2,3,4,5}\n",
        "s2= {3,4,5,6,7}"
      ]
    },
    {
      "cell_type": "markdown",
      "metadata": {
        "nbgrader": {
          "grade": true,
          "grade_id": "A2",
          "locked": false,
          "points": 2,
          "schema_version": 3,
          "solution": true,
          "task": false
        },
        "id": "puWIXYL4iv2p"
      },
      "source": [
        "What will the following code lines output ?\n",
        "\n",
        "1. print(s1.difference(s2))\n",
        "2. print(s1.intersection(s2))\n",
        "3. print(s1.union(s2))\n",
        "4. print(s1.symmetirc_difference(s2))"
      ]
    },
    {
      "cell_type": "code",
      "execution_count": null,
      "metadata": {
        "nbgrader": {
          "grade": false,
          "grade_id": "cell-c583dcd635f03dab",
          "locked": true,
          "schema_version": 3,
          "solution": false,
          "task": false
        },
        "id": "OrMfc3wWiv2q"
      },
      "outputs": [],
      "source": [
        "1. {1, 2}  #the values which are syncing in s2 with relation to s1 are elimintaed from s1.\n",
        "2. {3, 4, 5} #the values which are common in both the sets s1 and s2.\n",
        "3. {1, 2, 3, 4, 5, 6, 7} #the values the are all present in both the sets.\n",
        "4. {1, 2, 6, 7} #the set of values which are in either of the sets s1 and s2, but not in their intersection\n"
      ]
    },
    {
      "cell_type": "markdown",
      "metadata": {
        "nbgrader": {
          "grade": false,
          "grade_id": "Q3",
          "locked": true,
          "schema_version": 3,
          "solution": false,
          "task": false
        },
        "id": "ObCHro5Civ2r"
      },
      "source": [
        "## 4. Code Brackets\n",
        "\n",
        "Consider the program in the code cell below;"
      ]
    },
    {
      "cell_type": "code",
      "execution_count": null,
      "metadata": {
        "id": "EODcJnwaiv2r"
      },
      "outputs": [],
      "source": [
        "match= False\n",
        "if s.count('(') == s.count(')'):\n",
        "    if s.count('{') == s.count('}'):\n",
        "        if s.count('[') == s.count(']'):\n",
        "            match = True"
      ]
    },
    {
      "cell_type": "markdown",
      "metadata": {
        "nbgrader": {
          "grade": true,
          "grade_id": "A3",
          "locked": false,
          "points": 2,
          "schema_version": 3,
          "solution": true,
          "task": false
        },
        "id": "0KydI9Ueiv2s"
      },
      "source": [
        "If s = \"abcd(efgh(ijkl}{{}))\" what will be the value of match at the end of execution and justification?\n",
        "\n",
        "1. False, the number of opening and closing brackets are only considered\n",
        "2. False, the position of opening and closing brackets are not considered.\n",
        "3. True, the number of opening and closing brackets are only considered\n",
        "4. True, the number and position of opening and closing brackets are considered.\n"
      ]
    },
    {
      "cell_type": "code",
      "execution_count": null,
      "metadata": {
        "nbgrader": {
          "grade": false,
          "grade_id": "cell-f0e0b9c35862e705",
          "locked": true,
          "schema_version": 3,
          "solution": false,
          "task": false
        },
        "id": "ONznLwgfiv2s"
      },
      "outputs": [],
      "source": [
        "4. option(3)True ,the number of opening and closing brackets are only considered.- Explanation #the brackets asked in this question here are '(',')','{','}','[',']'. As the function count() is asked ,it is meant that we count the number of brackets present in the string 's' regardless of their positions in the string."
      ]
    },
    {
      "cell_type": "markdown",
      "metadata": {
        "nbgrader": {
          "grade": false,
          "grade_id": "Q4",
          "locked": true,
          "schema_version": 3,
          "solution": false,
          "task": false
        },
        "id": "gQWTRXUtiv2t"
      },
      "source": [
        "## 5. Report Card\n",
        "\n",
        "Each student has a unique ID, which is an integer. For example, the student Ramanujan's ID is 1 while the student Ravi's ID is 2. Look at the below code cell;"
      ]
    },
    {
      "cell_type": "code",
      "execution_count": null,
      "metadata": {
        "id": "9N5tdZJIiv2u"
      },
      "outputs": [],
      "source": [
        "report_card = { 1: {\n",
        "                    'name':'Niranjan',\n",
        "                    'age': 14,\n",
        "                    'school': 'DPS',\n",
        "                    'marks': {'Languages': 92, 'Maths': 87, 'Ethics': 72}\n",
        "                    },\n",
        "                2: {\n",
        "                    'name':'Prakruthi',\n",
        "                    'age': 15,\n",
        "                    'school': 'DPS',\n",
        "                    'marks': {'Languages': 98, 'Maths': 82, 'Ethics': 92}\n",
        "                }\n",
        "            }\n",
        "            "
      ]
    },
    {
      "cell_type": "markdown",
      "metadata": {
        "id": "DWm621xviv2u"
      },
      "source": [
        "Write the correct syntax below to add a new entry of student by the name \"Reva\" with the student ID 6, age 16, school 'LFHS' and having scored 91 in Languages, 80 in Maths and 64 in Ethics."
      ]
    },
    {
      "cell_type": "code",
      "execution_count": null,
      "metadata": {
        "nbgrader": {
          "grade": true,
          "grade_id": "A4",
          "locked": false,
          "points": 2,
          "schema_version": 3,
          "solution": true,
          "task": false
        },
        "colab": {
          "base_uri": "https://localhost:8080/"
        },
        "id": "bQjq-lP1iv2v",
        "outputId": "7ebf2c1e-902f-440c-8e99-dbd9f8dbc44e"
      },
      "outputs": [
        {
          "output_type": "stream",
          "name": "stdout",
          "text": [
            "{1: {'name': 'Niranjan', 'age': 14, 'school': 'DPS', 'marks': {'Languages': 92, 'Maths': 87, 'Ethics': 72}}, 2: {'student ID': 6, 'name': 'Prakruthi', 'age': 15, 'school': 'DPS', 'marks': {'Languages': 98, 'Maths': 82, 'Ethics': 92}}, 3: {'name': 'Reva', 'age': 16, 'school': 'LFHS', 'marks': {'Languages': 91, 'Maths': 80, 'Ethics': 64}}}\n"
          ]
        }
      ],
      "source": [
        "report_card = { 1: {\n",
        "                    'name':'Niranjan',\n",
        "                    'age': 14,\n",
        "                    'school': 'DPS',\n",
        "                    'marks': {'Languages': 92, 'Maths': 87, 'Ethics': 72}\n",
        "                    },\n",
        "                2: {\n",
        "                    'student ID':6,\n",
        "                    'name':'Prakruthi',\n",
        "                    'age': 15,\n",
        "                    'school': 'DPS',\n",
        "                    'marks': {'Languages': 98, 'Maths': 82, 'Ethics': 92}\n",
        "                    },\n",
        "                3: {\n",
        "                    'name':'Reva',\n",
        "                    'age': 16,\n",
        "                    'school': 'LFHS',\n",
        "                    'marks': {'Languages': 91, 'Maths': 80, 'Ethics': 64}\n",
        "                   }\n",
        "              }\n",
        "print(report_card)"
      ]
    },
    {
      "cell_type": "markdown",
      "source": [
        "5. Please find the syntax for the new entry of student Reva"
      ],
      "metadata": {
        "id": "y4jXclVeCJeu"
      }
    },
    {
      "cell_type": "markdown",
      "metadata": {
        "id": "gIOR5hkeiv2v"
      },
      "source": [
        "## 6. Dictionary Methods\n",
        "\n",
        "Match the following to their correct function definition\n",
        "\n",
        "| Name | Definition |\n",
        "| ---- | ---- |\n",
        "| 1. items() | A. Returns a list of all the values in the dictionary |\n",
        "| 2. keys () | B. Returns a dictionary with the specified keys and value |\n",
        "| 3. values() | C. Returns the value of the specified key |\n",
        "| 4. get() | D. Returns a list containing a tuple for each key value pair |\n",
        "| 5. Fromkeys() | E. Returns a list containing the dictionary's keys |"
      ]
    },
    {
      "cell_type": "code",
      "execution_count": null,
      "metadata": {
        "nbgrader": {
          "grade": false,
          "grade_id": "cell-6975b5c3cd3b6be9",
          "locked": true,
          "schema_version": 3,
          "solution": false,
          "task": false
        },
        "id": "ofR8YxQ0iv2w"
      },
      "outputs": [],
      "source": [
        "6. 1-D,2-E,3-A,4-B,5-C"
      ]
    },
    {
      "cell_type": "markdown",
      "metadata": {
        "id": "ShwpdiUriv2x"
      },
      "source": [
        "## 7. Predict Output\n",
        "\n",
        "Consider the following code and try to guess what the output will be."
      ]
    },
    {
      "cell_type": "code",
      "execution_count": null,
      "metadata": {
        "id": "LrIuwK1Liv2y"
      },
      "outputs": [],
      "source": [
        "s1= {1,2,3,4,4,1,2}\n",
        "s2= {4,3,2,1}\n",
        "l1 = [4,3,2,1]\n",
        "l2= [1,2,3,4,4,1,2]\n",
        "\n",
        "print(list(s1)==l2)\n",
        "print(set(l1)==s2)\n",
        "print(s1==s2)"
      ]
    },
    {
      "cell_type": "code",
      "source": [
        "7. False #as list(s1) = [1, 2, 3, 4] which is not equal to l2 = [1, 2, 3, 4, 4, 1, 2]\n",
        "   True #as set(l1) = {1, 2, 3, 4} which is equal to s2 = {1, 2, 3, 4}\n",
        "   True #as  set(s1) = {1, 2, 3, 4} which is equal to s2 = {1, 2, 3, 4}"
      ],
      "metadata": {
        "id": "d4J_Y14_LfTB"
      },
      "execution_count": null,
      "outputs": []
    },
    {
      "cell_type": "markdown",
      "metadata": {
        "id": "IEtiqi3iiv22"
      },
      "source": [
        "## Programming Questions\n",
        "\n",
        "Instructions:\n",
        "- Enter your solution in the cell block below only. Double click to edit.\n",
        "- Do not edit anything else apart from 'YOUR ANSWER HERE' for your solution"
      ]
    },
    {
      "cell_type": "markdown",
      "metadata": {
        "id": "XcC5ba76iv22"
      },
      "source": [
        "### 8. String Encryption\n",
        "\n",
        "Accept a string from the user and print the encrypted string according to the following conditions\n",
        "\n",
        "* Each letter should be replaced by the letter which is at the same position from reverse in alphabets like a is replaced by z b is replaced by y y is replaced by b, z is replaced by a\n",
        "\n",
        "* Uppercase letters should be in uppercase and lowercase letters should be in lowercase after conversion.\n",
        "\n",
        "* Each digit should be replaced by a digit which is at the same position from reverse in (0,1,2...9) like, o is replaced by 9.1 is replaced by 8-8 is replaced by 1 and 9 is replaced by 0.\n",
        "\n",
        "* Blank space should be replaced by and other types of character remain the same."
      ]
    },
    {
      "cell_type": "code",
      "execution_count": null,
      "metadata": {
        "id": "n5Np48nTiv23",
        "colab": {
          "base_uri": "https://localhost:8080/"
        },
        "outputId": "4ab644eb-ac52-4041-adb6-578d8eaf7c39"
      },
      "outputs": [
        {
          "output_type": "stream",
          "name": "stdout",
          "text": [
            "zyxwvutsrqponmlkjihgfedcba\n",
            "ABCDEFGHIJKLMNOPQRSTUVWXYZ\n"
          ]
        }
      ],
      "source": [
        "a = \"abcdefghijklmnopqrstuvwxyz\"\n",
        "b = print(a[::-1])\n",
        "c = a.upper()\n",
        "print(c)"
      ]
    },
    {
      "cell_type": "markdown",
      "source": [
        "8. I didn't understood the question and as Chaitanya sir told in office hours that \"for\" loop is required in this program and marks will be aadded for this question ."
      ],
      "metadata": {
        "id": "DW0KUpq9kOrh"
      }
    },
    {
      "cell_type": "markdown",
      "metadata": {
        "id": "ok8Qo2Dfiv23"
      },
      "source": [
        "### 9. Accept a sentence as input and find the number of words in it. Assume that the sentence has no punctuation marks\n",
        "\n",
        "Example:\n",
        "\n",
        "what a shot - 3 words\n",
        "\n",
        "this is a chair - 4 words"
      ]
    },
    {
      "cell_type": "markdown",
      "source": [
        ""
      ],
      "metadata": {
        "id": "Cn7s0FYOVZJU"
      }
    },
    {
      "cell_type": "markdown",
      "source": [
        ""
      ],
      "metadata": {
        "id": "hjBzYChBVYvf"
      }
    },
    {
      "cell_type": "code",
      "execution_count": null,
      "metadata": {
        "id": "4Zb742HKiv24",
        "colab": {
          "base_uri": "https://localhost:8080/"
        },
        "outputId": "f2e1f5ef-e8da-46c0-fbfa-a70da38fbfcf"
      },
      "outputs": [
        {
          "output_type": "stream",
          "name": "stdout",
          "text": [
            "please enter your required sentence to count the number of words in it - I love playing cricket with my friends\n",
            "7\n"
          ]
        }
      ],
      "source": [
        "a = input(\"please enter your required sentence to count the number of words in it - \")\n",
        "spl_a = a.split()\n",
        "answer = len(spl_a)\n",
        "print(answer)"
      ]
    },
    {
      "cell_type": "markdown",
      "metadata": {
        "id": "wERHPi6Viv24"
      },
      "source": [
        "### 10. Sandwich number\n",
        "\n",
        "A three digit number is called a sandwich number if the difference between its first and last digit is equal to its middle digit. Accept a three digit number as input and print “sandwich” if the number is a sandwich number. Print “plain” if the number is not a sandwich number. For example, 123 and 853 are sandwich numbers."
      ]
    },
    {
      "cell_type": "code",
      "execution_count": null,
      "metadata": {
        "id": "yNkvcLIMiv25",
        "colab": {
          "base_uri": "https://localhost:8080/"
        },
        "outputId": "ee97ae5b-88e4-4f55-ecf1-37e238c17a57"
      },
      "outputs": [
        {
          "output_type": "stream",
          "name": "stdout",
          "text": [
            "please enter a value 7\n",
            "please enter a value 4\n",
            "please enter a value 3\n",
            "sandwich\n"
          ]
        }
      ],
      "source": [
        "a = int(input(\"please enter a value \"))\n",
        "b = int(input(\"please enter a value \"))\n",
        "c = int(input(\"please enter a value \"))\n",
        "if  a-c == b:\n",
        "  print(\"sandwich\")\n",
        "else :\n",
        "  print(\"plain\") "
      ]
    },
    {
      "cell_type": "code",
      "source": [
        ""
      ],
      "metadata": {
        "id": "NaEEpk0nYlDU"
      },
      "execution_count": null,
      "outputs": []
    }
  ],
  "metadata": {
    "celltoolbar": "Create Assignment",
    "kernelspec": {
      "display_name": "Python 3 (ipykernel)",
      "language": "python",
      "name": "python3"
    },
    "language_info": {
      "codemirror_mode": {
        "name": "ipython",
        "version": 3
      },
      "file_extension": ".py",
      "mimetype": "text/x-python",
      "name": "python",
      "nbconvert_exporter": "python",
      "pygments_lexer": "ipython3",
      "version": "3.9.1"
    },
    "toc": {
      "base_numbering": 1,
      "nav_menu": {},
      "number_sections": true,
      "sideBar": true,
      "skip_h1_title": false,
      "title_cell": "Table of Contents",
      "title_sidebar": "Contents",
      "toc_cell": false,
      "toc_position": {},
      "toc_section_display": true,
      "toc_window_display": false
    },
    "varInspector": {
      "cols": {
        "lenName": 16,
        "lenType": 16,
        "lenVar": 40
      },
      "kernels_config": {
        "python": {
          "delete_cmd_postfix": "",
          "delete_cmd_prefix": "del ",
          "library": "var_list.py",
          "varRefreshCmd": "print(var_dic_list())"
        },
        "r": {
          "delete_cmd_postfix": ") ",
          "delete_cmd_prefix": "rm(",
          "library": "var_list.r",
          "varRefreshCmd": "cat(var_dic_list()) "
        }
      },
      "types_to_exclude": [
        "module",
        "function",
        "builtin_function_or_method",
        "instance",
        "_Feature"
      ],
      "window_display": false
    },
    "colab": {
      "name": "Manish Navaath_PW2-A1.ipynb",
      "provenance": [],
      "include_colab_link": true
    }
  },
  "nbformat": 4,
  "nbformat_minor": 0
}