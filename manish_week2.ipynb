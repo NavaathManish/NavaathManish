{
  "nbformat": 4,
  "nbformat_minor": 0,
  "metadata": {
    "colab": {
      "name": "manish_week2.ipynb",
      "provenance": [],
      "collapsed_sections": [],
      "authorship_tag": "ABX9TyOQ8TRoQeJQyEGMoSL6FZop",
      "include_colab_link": true
    },
    "kernelspec": {
      "name": "python3",
      "display_name": "Python 3"
    },
    "language_info": {
      "name": "python"
    }
  },
  "cells": [
    {
      "cell_type": "markdown",
      "metadata": {
        "id": "view-in-github",
        "colab_type": "text"
      },
      "source": [
        "<a href=\"https://colab.research.google.com/github/NavaathManish/NavaathManish/blob/main/manish_week2.ipynb\" target=\"_parent\"><img src=\"https://colab.research.google.com/assets/colab-badge.svg\" alt=\"Open In Colab\"/></a>"
      ]
    },
    {
      "cell_type": "code",
      "execution_count": null,
      "metadata": {
        "id": "dLdmKu5F2Y0N"
      },
      "outputs": [],
      "source": [
        "s = \"this is old python course\"\n",
        "t = s.count(\"is\")"
      ]
    },
    {
      "cell_type": "code",
      "source": [
        "x = int(input())\n",
        "y = int(input())\n",
        "z = int(input())\n",
        "\n",
        "#Block-1 Start\n",
        "\n",
        "if x > 0 or y> 0 or z > 0:\n",
        "    if (x > 0 and y> 0) or (y> 0 and z> 0) or (z> 0 and x > 0):\n",
        "        if x > 0 and y> 0 and z > 0:\n",
        "            print('P3')\n",
        "        else:\n",
        "            print('P2')\n",
        "    else:\n",
        "        print('P1')\n",
        "\n",
        "#Block-1 End\n",
        "\n",
        "\n",
        "# Block-2 Start\n",
        "\n",
        "if x <0 or y<0 or z < 0:\n",
        "    if (x < 0 and y< 0) or (y< 0 and z< 0) or (z< 0 and x < 0):\n",
        "            if x < 0 and y< 0 and z < 0:\n",
        "                print('N3')\n",
        "            else:\n",
        "                print('N2')\n",
        "    else:\n",
        "        print('N1')\n"
      ],
      "metadata": {
        "colab": {
          "base_uri": "https://localhost:8080/"
        },
        "id": "TrxlFySr2j8H",
        "outputId": "a87fe4ae-fd86-41e5-adb1-fc28f71a8a8d"
      },
      "execution_count": null,
      "outputs": [
        {
          "output_type": "stream",
          "name": "stdout",
          "text": [
            "-1\n",
            "4\n",
            "1\n",
            "P2\n",
            "N1\n"
          ]
        }
      ]
    },
    {
      "cell_type": "code",
      "source": [
        "s1= {1,2,3,4,5}\n",
        "s2= {3,4,5,6,7}\n",
        "print(s1.difference(s2))\n",
        "print(s1.intersection(s2))\n",
        "print(s1.union(s2))\n",
        "print(s1.symmetric_difference(s2))"
      ],
      "metadata": {
        "colab": {
          "base_uri": "https://localhost:8080/"
        },
        "id": "2P2dzDtp3qno",
        "outputId": "249c6e2d-e0bb-4577-f7b6-6963f1624c6f"
      },
      "execution_count": null,
      "outputs": [
        {
          "output_type": "stream",
          "name": "stdout",
          "text": [
            "{1, 2}\n",
            "{3, 4, 5}\n",
            "{1, 2, 3, 4, 5, 6, 7}\n",
            "{1, 2, 6, 7}\n"
          ]
        }
      ]
    },
    {
      "cell_type": "code",
      "source": [
        "match= False\n",
        "if s.count('(') == s.count(')'):\n",
        "    if s.count('{') == s.count('}'):\n",
        "        if s.count('[') == s.count(']'):\n",
        "            match = True"
      ],
      "metadata": {
        "id": "gRhThtrk6br8"
      },
      "execution_count": null,
      "outputs": []
    },
    {
      "cell_type": "code",
      "source": [
        "s = \"abcd(efgh(ijkl}{{}))\"\n",
        "s.count('{') == s.count('}')"
      ],
      "metadata": {
        "colab": {
          "base_uri": "https://localhost:8080/"
        },
        "id": "Feul_EEG8_kS",
        "outputId": "068138e5-a196-4179-ec4e-76fe5ece218f"
      },
      "execution_count": null,
      "outputs": [
        {
          "output_type": "execute_result",
          "data": {
            "text/plain": [
              "True"
            ]
          },
          "metadata": {},
          "execution_count": 19
        }
      ]
    },
    {
      "cell_type": "code",
      "source": [
        "s = \"abcd(efgh(ijkl}{{}))\"\n",
        "s.count('[') == s.count(']')"
      ],
      "metadata": {
        "id": "v6fIb4rc9F4B"
      },
      "execution_count": null,
      "outputs": []
    },
    {
      "cell_type": "code",
      "source": [
        ""
      ],
      "metadata": {
        "id": "YBkjgFeQ_FSa"
      },
      "execution_count": null,
      "outputs": []
    }
  ]
}